{
  "nbformat": 4,
  "nbformat_minor": 0,
  "metadata": {
    "colab": {
      "name": "Copy of pytorch_week1",
      "provenance": [],
      "collapsed_sections": [],
      "authorship_tag": "ABX9TyOR96Y0YOs+CJQB4vbl4C7B",
      "include_colab_link": true
    },
    "kernelspec": {
      "name": "python3",
      "display_name": "Python 3"
    },
    "language_info": {
      "name": "python"
    }
  },
  "cells": [
    {
      "cell_type": "markdown",
      "metadata": {
        "id": "view-in-github",
        "colab_type": "text"
      },
      "source": [
        "<a href=\"https://colab.research.google.com/github/saswatpanda001/pytorch_tutorial/blob/main/Copy_of_pytorch_week1.ipynb\" target=\"_parent\"><img src=\"https://colab.research.google.com/assets/colab-badge.svg\" alt=\"Open In Colab\"/></a>"
      ]
    },
    {
      "cell_type": "code",
      "metadata": {
        "colab": {
          "base_uri": "https://localhost:8080/"
        },
        "id": "CUIDKWJ82qQC",
        "outputId": "0ac29bb3-21d6-481d-8248-4cc03cbe2805"
      },
      "source": [
        "import torch\n",
        "\n",
        "l1 = torch.tensor(1)\n",
        "l2 = torch.tensor(1.)\n",
        "\n",
        "\n",
        "\n",
        "\n",
        "n1 = torch.tensor([[[1,2,3,4],[4,5,6,4],[7,8,9,4]],[[1,2,4,3],[4,5,6,4],[7,8,9,6]]])\n",
        "n2 = torch.tensor([1,2.,3])\n",
        "n3 = torch.tensor([[1,2,3],[4,5,6]])\n",
        "\n",
        "\n",
        "\n",
        "print(n1.shape)\n",
        "print(n2.shape)\n",
        "print(n3.shape)\n",
        "\n",
        "\n",
        "print(l1.type())\n",
        "print(l2.type())\n",
        "print(l2.type())\n",
        "\n",
        "\n"
      ],
      "execution_count": null,
      "outputs": [
        {
          "output_type": "stream",
          "text": [
            "torch.Size([2, 3, 4])\n",
            "torch.Size([3])\n",
            "torch.Size([2, 3])\n",
            "torch.LongTensor\n",
            "torch.FloatTensor\n",
            "torch.FloatTensor\n"
          ],
          "name": "stdout"
        }
      ]
    },
    {
      "cell_type": "code",
      "metadata": {
        "id": "mS6NvVqY58DQ"
      },
      "source": [
        ""
      ],
      "execution_count": null,
      "outputs": []
    },
    {
      "cell_type": "markdown",
      "metadata": {
        "id": "VWFZlK7Y5j4F"
      },
      "source": [
        ""
      ]
    },
    {
      "cell_type": "code",
      "metadata": {
        "id": "9ygrQg1s5mhp"
      },
      "source": [
        ""
      ],
      "execution_count": null,
      "outputs": []
    }
  ]
}